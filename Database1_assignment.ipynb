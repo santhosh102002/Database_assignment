{
 "cells": [
  {
   "cell_type": "code",
   "execution_count": 2,
   "id": "cc56f3c8-851d-40fb-9aa3-41644b7c7053",
   "metadata": {},
   "outputs": [],
   "source": [
    "#1. A database is an organized collection of structured information, or data, typically stored electronically in a computer system.\n",
    "# Difference betweem sql and nosql:\n",
    "# SQL is the programming language used to interface with relational databases. (Relational databases model data as records in rows and tables with logical links between them). \n",
    "#NoSQL is a class of DBMs that are non-relational and generally do not use SQL."
   ]
  },
  {
   "cell_type": "code",
   "execution_count": 3,
   "id": "a29b578f-aec9-4b84-a4e4-3f9633b79a93",
   "metadata": {},
   "outputs": [],
   "source": [
    "#2. A data definition language (DDL) is a computer language used to create and modify the structure of database objects in a database. These database objects include views, schemas, tables, indexes, etc.\n",
    "#The CREATE statement is used to create a new table or a new database.Ex: create table tablename(column1,column2..); create database databasename\n",
    "#The DROP TABLE statement is used to drop an existing table in a database. Ex: drop table tablenanme;\n",
    "#The ALTER TABLE statement is used to add, delete, or modify columns in an existing table.Ex: ALTER TABLE table_name\n",
    "#ADD column_name datatype;\n",
    "#The TRUNCATE TABLE command deletes the data inside a table, but not the table itself.Ex:TRUNCATE TABLE  table_name;"
   ]
  },
  {
   "cell_type": "code",
   "execution_count": 4,
   "id": "727714ac-ec71-4f00-87de-3c27df0db834",
   "metadata": {},
   "outputs": [],
   "source": [
    "#3.DML stands for Data Manipulation Language, and it is a subset of SQL (Structured Query Language) used to modify and manipulate data within a database.\n",
    "# INSERT: This command is used to insert new data into a table.INSERT INTO table_name (column1, column2, column3, ...) VALUES (value1, value2, value3, ...);\n",
    "#UPDATE: This command is used to update existing data in a table.UPDATE table_name SET column1 = value1, column2 = value2, ...WHERE condition;\n",
    "#DELETE: This command is used to delete data from a table.DELETE FROM table_name WHERE condition;"
   ]
  },
  {
   "cell_type": "code",
   "execution_count": 5,
   "id": "868d0ea2-052b-46f5-b02c-60617e24ed4c",
   "metadata": {},
   "outputs": [],
   "source": [
    "#4.DQL stands for Data Query Language, and it is a subset of SQL (Structured Query Language) used to retrieve data from a database.\n",
    "#SELECT: This command is used to retrieve data from one or more tables in a database. SELECT column1, column2, ... FROM table1 WHERE condition;"
   ]
  },
  {
   "cell_type": "code",
   "execution_count": 6,
   "id": "57037a5d-1d5e-46ee-bc39-f35ca447ed6d",
   "metadata": {},
   "outputs": [],
   "source": [
    "#5.Primary Key:\n",
    "#A primary key is a column or set of columns in a table that uniquely identifies each row in that table. It is used to ensure the data in the table is unique and can be used as a reference point for other tables. Each table in a database must have a primary key.\n",
    "#Foreign Key:\n",
    "#A foreign key is a column or set of columns in a table that refers to the primary key of another table. It establishes a relationship between two tables, where the foreign key in one table refers to the primary key in another table. The foreign key column in a table holds values that correspond to the primary key column of another table."
   ]
  },
  {
   "cell_type": "code",
   "execution_count": 8,
   "id": "dd25b3fb-2794-4053-b159-06bd0b00c3e4",
   "metadata": {},
   "outputs": [],
   "source": [
    "#6. code to connect MYSQL and Python\n",
    "# import mysql.connector\n",
    "# mydb = mysql.connector.connect(\n",
    "#   host=\"localhost\",\n",
    "#   user=\"abc\",\n",
    "#   password=\"password\"\n",
    "# )\n",
    "# mycursor = mydb.cursor()\n",
    "# mycursor.execute(\"SHOW DATABASES\")\n",
    "# mydb.close()\n",
    "#The cursor() method is used to create a cursor object in Python that allows us to execute SQL statements against a database.\n",
    "#The execute() method is used to execute a SQL statement against a database. It is a method of a cursor object, which is created using the cursor() method."
   ]
  },
  {
   "cell_type": "code",
   "execution_count": 10,
   "id": "1e579e17-2540-45c1-80fe-94674adaf293",
   "metadata": {},
   "outputs": [],
   "source": [
    "#7. From ,  join ,where, groupby, having,select, distinct, orderby, limit."
   ]
  },
  {
   "cell_type": "code",
   "execution_count": null,
   "id": "d38a714c-d155-453a-9319-6cb0314f3ae6",
   "metadata": {},
   "outputs": [],
   "source": []
  }
 ],
 "metadata": {
  "kernelspec": {
   "display_name": "Python 3 (ipykernel)",
   "language": "python",
   "name": "python3"
  },
  "language_info": {
   "codemirror_mode": {
    "name": "ipython",
    "version": 3
   },
   "file_extension": ".py",
   "mimetype": "text/x-python",
   "name": "python",
   "nbconvert_exporter": "python",
   "pygments_lexer": "ipython3",
   "version": "3.10.8"
  }
 },
 "nbformat": 4,
 "nbformat_minor": 5
}
